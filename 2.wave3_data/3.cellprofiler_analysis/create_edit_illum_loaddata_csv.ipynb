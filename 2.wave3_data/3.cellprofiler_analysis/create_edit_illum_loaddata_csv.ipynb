{
 "cells": [
  {
   "attachments": {},
   "cell_type": "markdown",
   "metadata": {},
   "source": [
    "# Create and edit LoadData csv for CellProfiler `analysis.cppipe` pipeline - Wave 3\n",
    "\n",
    "This pipeline will create a LoadData csv with the illumination correction functions for each channel and then edited to remove rows that are not the last z-plane and correct the pathing to the maximum prjected images."
   ]
  },
  {
   "attachments": {},
   "cell_type": "markdown",
   "metadata": {},
   "source": [
    "## Import libraries"
   ]
  },
  {
   "cell_type": "code",
   "execution_count": 1,
   "metadata": {},
   "outputs": [],
   "source": [
    "import pathlib\n",
    "\n",
    "import sys\n",
    "sys.path.append(\"../../utils\")\n",
    "import loaddata_utils as ld"
   ]
  },
  {
   "attachments": {},
   "cell_type": "markdown",
   "metadata": {},
   "source": [
    "## Set paths\n",
    "\n",
    "**Note:** All paths must be absolute since CellProfiler will need to find the images based on your local machine. Please change the `/home/jenna` part of the path to reflect your machine."
   ]
  },
  {
   "cell_type": "code",
   "execution_count": 2,
   "metadata": {},
   "outputs": [],
   "source": [
    "index_directory = pathlib.Path(\"/home/jenna/Interstellar_Project/2.wave3_data/0.download_data/70117_20230118MM1_CellPainting_A700_20X_V1__2023-02-06T09_42_13-Measurement1/Images\")\n",
    "# use config file from previous module since it doesn't change\n",
    "config_path = pathlib.Path(\"/home/jenna/Interstellar_Project/2.wave3_data/1.cellprofiler_quality_control/config.yml\")\n",
    "path_to_output = pathlib.Path(\"/home/jenna/Interstellar_Project/2.wave3_data/2.cellprofiler_ic_processing/wave3_loaddata.csv\")\n",
    "illum_directory = pathlib.Path(\"/home/jenna/Interstellar_Project/2.wave3_data/2.cellprofiler_ic_processing/illum_directory\")\n",
    "plate_id = \"70117_20230118MM1_CellPainting_A700_20X_V1\"\n",
    "illum_output_path = pathlib.Path(\"/home/jenna/Interstellar_Project/2.wave3_data/3.cellprofiler_analysis/wave3_loaddata_with_illum.csv\")"
   ]
  },
  {
   "attachments": {},
   "cell_type": "markdown",
   "metadata": {},
   "source": [
    "## Create the LoadData csv with illum correction functions"
   ]
  },
  {
   "cell_type": "code",
   "execution_count": 3,
   "metadata": {},
   "outputs": [
    {
     "name": "stdout",
     "output_type": "stream",
     "text": [
      "wave3_loaddata_with_illum.csv is created!\n"
     ]
    }
   ],
   "source": [
    "ld.create_loaddata_illum_csv(index_directory, config_path, path_to_output, illum_directory, plate_id, illum_output_path)"
   ]
  },
  {
   "attachments": {},
   "cell_type": "markdown",
   "metadata": {},
   "source": [
    "## Edit LoadData csv to remove unnecessary rows and correct paths to images"
   ]
  },
  {
   "cell_type": "code",
   "execution_count": 4,
   "metadata": {},
   "outputs": [
    {
     "name": "stdout",
     "output_type": "stream",
     "text": [
      "wave3_loaddata_with_illum.csv has been corrected!\n"
     ]
    }
   ],
   "source": [
    "# must be illum_output_path as this is the final output path for the csv\n",
    "ld.edit_loaddata_csv(illum_output_path)"
   ]
  }
 ],
 "metadata": {
  "kernelspec": {
   "display_name": "pe2loaddata",
   "language": "python",
   "name": "python3"
  },
  "language_info": {
   "codemirror_mode": {
    "name": "ipython",
    "version": 3
   },
   "file_extension": ".py",
   "mimetype": "text/x-python",
   "name": "python",
   "nbconvert_exporter": "python",
   "pygments_lexer": "ipython3",
   "version": "3.9.12"
  },
  "orig_nbformat": 4,
  "vscode": {
   "interpreter": {
    "hash": "8e682b7bd16cdbc4be2393bc1b1eed6b87cf8a0c86d477c0593cdffdecdf8222"
   }
  }
 },
 "nbformat": 4,
 "nbformat_minor": 2
}
